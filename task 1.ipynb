{
 "cells": [
  {
   "cell_type": "code",
   "execution_count": null,
   "id": "fc0dfc26",
   "metadata": {},
   "outputs": [
    {
     "name": "stdout",
     "output_type": "stream",
     "text": [
      "📋 Columns in the dataset:\n",
      "['online_order', 'book_table', 'rate', 'votes', 'rest_type', 'dish_liked', 'cuisines', 'approx_costfor_two_people', 'listed_intype', 'listed_incity']\n",
      "\n",
      "🍛 Number of restaurants serving North Indian cuisine: 20767\n"
     ]
    }
   ],
   "source": [
    "# Import Libraries\n",
    "import pandas as pd\n",
    "\n",
    "# Step 1: Load local CSV file\n",
    "file_path = \"C:\\Users\\SATHVIKA\\Downloads\\zomato_data.csv\"  # Use raw string to avoid path errors\n",
    "df = pd.read_csv(file_path)\n",
    "\n",
    "# Step 2: Show available columns\n",
    "print(\"📋 Columns in the dataset:\")\n",
    "print(df.columns.tolist())\n",
    "\n",
    "# Step 3: Data cleaning\n",
    "df.drop_duplicates(inplace=True)\n",
    "df.dropna(subset=['cuisines'], inplace=True)\n",
    "df['cuisines'] = df['cuisines'].astype(str)\n",
    "\n",
    "# Step 4: Filter for 'North Indian' cuisine\n",
    "north_indian_df = df[df['cuisines'].str.contains('North Indian', case=False, na=False)]\n",
    "\n",
    "# Step 5: Count number of restaurants offering North Indian cuisine\n",
    "restaurant_count = len(north_indian_df)\n",
    "\n",
    "# Final Output\n",
    "print(f\"\\n🍛 Number of restaurants serving North Indian cuisine: {restaurant_count}\")\n"
   ]
  },
  {
   "cell_type": "code",
   "execution_count": null,
   "id": "789af5a0",
   "metadata": {},
   "outputs": [
    {
     "name": "stdout",
     "output_type": "stream",
     "text": [
      "The most commonly offered cuisine is: North Indian (21085 restaurants)\n"
     ]
    }
   ],
   "source": [
    "import pandas as pd\n",
    "\n",
    "# Load dataset\n",
    "file_path = \"C:\\Users\\SATHVIKA\\Downloads\\zomato_data.csv\"\n",
    "df = pd.read_csv(file_path)\n",
    "\n",
    "# Drop rows with missing cuisine data\n",
    "df = df.dropna(subset=['cuisines'])\n",
    "\n",
    "# Split multiple cuisines into individual entries\n",
    "all_cuisines = df['cuisines'].str.split(', ').explode()\n",
    "\n",
    "# Count frequency of each cuisine\n",
    "cuisine_counts = all_cuisines.value_counts()\n",
    "\n",
    "# Get the most common cuisine\n",
    "most_common = cuisine_counts.idxmax()\n",
    "count = cuisine_counts.max()\n",
    "\n",
    "# Print result\n",
    "print(f\"The most commonly offered cuisine is: {most_common} ({count} restaurants)\")\n"
   ]
  },
  {
   "cell_type": "code",
   "execution_count": null,
   "id": "6097b627",
   "metadata": {},
   "outputs": [
    {
     "name": "stdout",
     "output_type": "stream",
     "text": [
      "Columns: ['online_order', 'book_table', 'rate', 'votes', 'rest_type', 'dish_liked', 'cuisines', 'approx_costfor_two_people', 'listed_intype', 'listed_incity']\n",
      "The locality with the highest average dining cost is: Church Street (₹771.99)\n"
     ]
    }
   ],
   "source": [
    "import pandas as pd\n",
    "\n",
    "# Load the dataset\n",
    "file_path = \"C:\\Users\\SATHVIKA\\Downloads\\zomato_data.csv\"\n",
    "df = pd.read_csv(file_path)\n",
    "\n",
    "# Check column names to ensure we reference them correctly\n",
    "print(\"Columns:\", df.columns.tolist())\n",
    "\n",
    "# Clean the cost column\n",
    "df['approx_costfor_two_people'] = (\n",
    "    df['approx_costfor_two_people']\n",
    "    .astype(str)\n",
    "    .str.replace(',', '')  # remove commas\n",
    "    .replace('nan', pd.NA)\n",
    ")\n",
    "df['approx_costfor_two_people'] = pd.to_numeric(df['approx_costfor_two_people'], errors='coerce')\n",
    "\n",
    "# Group by locality (assuming 'listed_incity' is your location column) and calculate average cost\n",
    "avg_cost_by_locality = df.groupby('listed_incity')['approx_costfor_two_people'].mean()\n",
    "\n",
    "# Find the locality with the highest average cost\n",
    "most_expensive_locality = avg_cost_by_locality.idxmax()\n",
    "max_cost = avg_cost_by_locality.max()\n",
    "\n",
    "print(f\"The locality with the highest average dining cost is: {most_expensive_locality} (₹{max_cost:.2f})\")\n"
   ]
  },
  {
   "cell_type": "code",
   "execution_count": null,
   "id": "ebf7e429",
   "metadata": {},
   "outputs": [
    {
     "name": "stdout",
     "output_type": "stream",
     "text": [
      "The restaurant type with the top rating and over 1000 votes is: Bakery (Average Rating: 4.80)\n"
     ]
    }
   ],
   "source": [
    "import pandas as pd\n",
    "\n",
    "# Load the dataset\n",
    "file_path = \"C:\\Users\\SATHVIKA\\Downloads\\zomato_data.csv\"\n",
    "df = pd.read_csv(file_path)\n",
    "\n",
    "# Clean the 'rate' column\n",
    "df['rate'] = (\n",
    "    df['rate']\n",
    "    .astype(str)\n",
    "    .str.replace('/5', '')\n",
    "    .replace(['NEW', '-', 'nan'], pd.NA)\n",
    ")\n",
    "df['rate'] = pd.to_numeric(df['rate'], errors='coerce')\n",
    "\n",
    "# Filter restaurants with more than 1000 votes\n",
    "filtered_df = df[df['votes'] > 1000]\n",
    "\n",
    "# Group by 'rest_type' and calculate average rating\n",
    "avg_rating_by_type = filtered_df.groupby('rest_type')['rate'].mean()\n",
    "\n",
    "# Get the restaurant type with the highest average rating\n",
    "top_restaurant_type = avg_rating_by_type.idxmax()\n",
    "top_rating = avg_rating_by_type.max()\n",
    "\n",
    "print(f\"The restaurant type with the top rating and over 1000 votes is: {top_restaurant_type} (Average Rating: {top_rating:.2f})\")\n"
   ]
  },
  {
   "cell_type": "code",
   "execution_count": null,
   "id": "d98c604b",
   "metadata": {},
   "outputs": [
    {
     "name": "stdout",
     "output_type": "stream",
     "text": [
      "The minimum cost to eat out in Bangalore is: ₹40\n"
     ]
    }
   ],
   "source": [
    "import pandas as pd\n",
    "\n",
    "# Load the dataset\n",
    "file_path = \"C:\\Users\\SATHVIKA\\Downloads\\zomato_data.csv\"\n",
    "df = pd.read_csv(file_path)\n",
    "\n",
    "# Clean the cost column: remove commas and convert to numeric\n",
    "df['approx_costfor_two_people'] = (\n",
    "    df['approx_costfor_two_people']\n",
    "    .astype(str)\n",
    "    .str.replace(',', '')\n",
    "    .replace('nan', pd.NA)\n",
    ")\n",
    "df['approx_costfor_two_people'] = pd.to_numeric(df['approx_costfor_two_people'], errors='coerce')\n",
    "\n",
    "# Get the minimum cost\n",
    "min_cost = df['approx_costfor_two_people'].min()\n",
    "\n",
    "print(f\"The minimum cost to eat out in Bangalore is: ₹{int(min_cost)}\")\n"
   ]
  },
  {
   "cell_type": "code",
   "execution_count": null,
   "id": "d2275304",
   "metadata": {},
   "outputs": [
    {
     "name": "stdout",
     "output_type": "stream",
     "text": [
      "Banashankari accounts for 0.00% of total online orders.\n"
     ]
    }
   ],
   "source": [
    "import pandas as pd\n",
    "\n",
    "# Load the dataset\n",
    "file_path = \"C:\\Users\\SATHVIKA\\Downloads\\zomato_data.csv\"\n",
    "df = pd.read_csv(file_path)\n",
    "\n",
    "# Filter restaurants with online ordering enabled\n",
    "df['online_order'] = df['online_order'].astype(str).str.lower()\n",
    "online_df = df[df['online_order'] == 'yes']\n",
    "\n",
    "# Standardize the city column\n",
    "df['listed_incity'] = df['listed_incity'].astype(str).str.lower()\n",
    "\n",
    "# Filter for Banashankari restaurants\n",
    "banashankari_online = online_df[online_df['listed_incity'] == 'banashankari']\n",
    "\n",
    "# Calculate percentage\n",
    "total_online = len(online_df)\n",
    "banashankari_count = len(banashankari_online)\n",
    "percentage = (banashankari_count / total_online) * 100\n",
    "\n",
    "print(f\"Banashankari accounts for {percentage:.2f}% of total online orders.\")\n"
   ]
  },
  {
   "cell_type": "code",
   "execution_count": null,
   "id": "785565a7",
   "metadata": {},
   "outputs": [
    {
     "name": "stdout",
     "output_type": "stream",
     "text": [
      "Banashankari receives 1.79% of total online orders.\n"
     ]
    }
   ],
   "source": [
    "import pandas as pd\n",
    "\n",
    "# Load the dataset\n",
    "file_path = \"C:\\Users\\SATHVIKA\\Downloads\\zomato_data.csv\"\n",
    "df = pd.read_csv(file_path)\n",
    "\n",
    "# Make sure column values are strings and lowercase for consistency\n",
    "df['online_order'] = df['online_order'].astype(str).str.lower()\n",
    "df['listed_incity'] = df['listed_incity'].astype(str).str.lower()\n",
    "\n",
    "# Filter all restaurants that allow online ordering\n",
    "online_df = df[df['online_order'] == 'yes']\n",
    "\n",
    "# Total number of restaurants with online ordering\n",
    "total_online_orders = len(online_df)\n",
    "\n",
    "# Number of restaurants in Banashankari with online ordering\n",
    "banashankari_orders = len(online_df[online_df['listed_incity'] == 'banashankari'])\n",
    "\n",
    "# Calculate percentage\n",
    "percentage = (banashankari_orders / total_online_orders) * 100\n",
    "\n",
    "print(f\"Banashankari receives {percentage:.2f}% of total online orders.\")\n"
   ]
  },
  {
   "cell_type": "code",
   "execution_count": null,
   "id": "8c44c727",
   "metadata": {},
   "outputs": [
    {
     "name": "stdout",
     "output_type": "stream",
     "text": [
      "The locality with the most restaurants with >500 votes and rating < 3.0 is: Brookefield\n"
     ]
    }
   ],
   "source": [
    "import pandas as pd\n",
    "\n",
    "# Load your dataset\n",
    "file_path = \"C:\\Users\\SATHVIKA\\Downloads\\zomato_data.csv\"\n",
    "df = pd.read_csv(file_path)\n",
    "\n",
    "# Print all column names (optional, for debugging)\n",
    "# print(\"Columns in dataset:\")\n",
    "# print(df.columns.tolist())\n",
    "\n",
    "# Clean and convert 'rate' column\n",
    "df['rate'] = df['rate'].astype(str).str.replace('/5', '').replace(['NEW', '-', 'nan'], pd.NA)\n",
    "df['rate'] = pd.to_numeric(df['rate'], errors='coerce')\n",
    "\n",
    "# Filter restaurants with >500 votes and rating < 3.0\n",
    "filtered_df = df[(df['votes'] > 500) & (df['rate'] < 3.0)]\n",
    "\n",
    "# Use 'listed_incity' as the locality column\n",
    "most_common_locality = filtered_df['listed_incity'].value_counts().idxmax()\n",
    "\n",
    "print(f\"The locality with the most restaurants with >500 votes and rating < 3.0 is: {most_common_locality}\")\n"
   ]
  },
  {
   "cell_type": "code",
   "execution_count": null,
   "id": "1d6d63f8",
   "metadata": {},
   "outputs": [
    {
     "name": "stdout",
     "output_type": "stream",
     "text": [
      "Locality with the highest restaurant type diversity: BTM (61 unique types)\n"
     ]
    }
   ],
   "source": [
    "import pandas as pd\n",
    "\n",
    "# Load the dataset\n",
    "file_path = \"C:\\Users\\SATHVIKA\\Downloads\\zomato_data.csv\"\n",
    "df = pd.read_csv(file_path)\n",
    "\n",
    "# Drop missing rest_type or listed_incity\n",
    "df = df.dropna(subset=['rest_type', 'listed_incity'])\n",
    "\n",
    "# Count unique rest types per locality\n",
    "diversity = df.groupby('listed_incity')['rest_type'].nunique()\n",
    "\n",
    "# Get the locality with the highest diversity\n",
    "top_diversity_locality = diversity.idxmax()\n",
    "top_diversity_count = diversity.max()\n",
    "\n",
    "print(f\"Locality with the highest restaurant type diversity: {top_diversity_locality} ({top_diversity_count} unique types)\")\n"
   ]
  },
  {
   "cell_type": "code",
   "execution_count": null,
   "id": "d79b8d16",
   "metadata": {},
   "outputs": [
    {
     "name": "stdout",
     "output_type": "stream",
     "text": [
      "Average Buffet Cost: ₹nan\n",
      "Average Delivery Cost: ₹415.05\n"
     ]
    },
    {
     "data": {
      "text/plain": [
       "<function print(*args, sep=' ', end='\\n', file=None, flush=False)>"
      ]
     },
     "execution_count": 10,
     "metadata": {},
     "output_type": "execute_result"
    }
   ],
   "source": [
    "import pandas as pd\n",
    "\n",
    "# Load the dataset\n",
    "file_path = \"C:\\Users\\SATHVIKA\\Downloads\\zomato_data.csv\"\n",
    "df = pd.read_csv(file_path)\n",
    "\n",
    "# Clean 'approx_costfor_two_people' column\n",
    "df['approx_costfor_two_people'] = (\n",
    "    df['approx_costfor_two_people']\n",
    "    .astype(str)\n",
    "    .str.replace(',', '')\n",
    "    .str.strip()\n",
    "    .replace('nan', pd.NA)\n",
    ")\n",
    "df['approx_costfor_two_people'] = pd.to_numeric(df['approx_costfor_two_people'], errors='coerce')\n",
    "\n",
    "# Clean 'rest_type' column\n",
    "df['rest_type'] = df['rest_type'].astype(str).str.lower()\n",
    "\n",
    "# Filter buffet restaurants\n",
    "buffet_df = df[df['rest_type'].str.contains('buffet', na=False)]\n",
    "\n",
    "# Filter delivery restaurants\n",
    "delivery_df = df[df['rest_type'].str.contains('delivery', na=False)]\n",
    "\n",
    "# Calculate average cost\n",
    "avg_buffet_cost = buffet_df['approx_costfor_two_people'].mean()\n",
    "avg_delivery_cost = delivery_df['approx_costfor_two_people'].mean()\n",
    "\n",
    "# Calculate cost difference\n",
    "cost_difference = avg_buffet_cost - avg_delivery_cost\n",
    "\n",
    "print(f\"Average Buffet Cost: ₹{avg_buffet_cost:.2f}\")\n",
    "print(f\"Average Delivery Cost: ₹{avg_delivery_cost:.2f}\")\n",
    "print\n"
   ]
  },
  {
   "cell_type": "code",
   "execution_count": null,
   "id": "5311df6c",
   "metadata": {},
   "outputs": [
    {
     "name": "stdout",
     "output_type": "stream",
     "text": [
      "Average cost (Buffet): ₹nan\n",
      "Average cost (Delivery): ₹415.05\n",
      "Average cost difference: ₹nan\n"
     ]
    }
   ],
   "source": [
    "import pandas as pd\n",
    "\n",
    "# Load dataset\n",
    "file_path = \"C:\\Users\\SATHVIKA\\Downloads\\zomato_data.csv\"\n",
    "df = pd.read_csv(file_path)\n",
    "\n",
    "# Clean the 'approx_costfor_two_people' column\n",
    "df['approx_costfor_two_people'] = (\n",
    "    df['approx_costfor_two_people']\n",
    "    .astype(str)\n",
    "    .str.replace(',', '')\n",
    "    .str.strip()\n",
    "    .replace('nan', pd.NA)\n",
    ")\n",
    "df['approx_costfor_two_people'] = pd.to_numeric(df['approx_costfor_two_people'], errors='coerce')\n",
    "\n",
    "# Clean the 'rest_type' column\n",
    "df['rest_type'] = df['rest_type'].astype(str).str.lower()\n",
    "\n",
    "# Filter buffet and delivery restaurants\n",
    "buffet_df = df[df['rest_type'].str.contains('buffet', na=False)]\n",
    "delivery_df = df[df['rest_type'].str.contains('delivery', na=False)]\n",
    "\n",
    "# Calculate average cost for two\n",
    "avg_buffet = buffet_df['approx_costfor_two_people'].mean()\n",
    "avg_delivery = delivery_df['approx_costfor_two_people'].mean()\n",
    "\n",
    "# Calculate the difference\n",
    "cost_diff = avg_buffet - avg_delivery\n",
    "\n",
    "# Print the result\n",
    "print(f\"Average cost (Buffet): ₹{avg_buffet:.2f}\")\n",
    "print(f\"Average cost (Delivery): ₹{avg_delivery:.2f}\")\n",
    "print(f\"Average cost difference: ₹{cost_diff:.2f}\")\n"
   ]
  },
  {
   "cell_type": "code",
   "execution_count": null,
   "id": "fe8b017e",
   "metadata": {},
   "outputs": [
    {
     "name": "stdout",
     "output_type": "stream",
     "text": [
      "Maximum votes received by a restaurant with online ordering: 16832\n"
     ]
    }
   ],
   "source": [
    "import pandas as pd\n",
    "\n",
    "# Load the dataset\n",
    "file_path = \"C:\\Users\\SATHVIKA\\Downloads\\zomato_data.csv\"\n",
    "df = pd.read_csv(file_path)\n",
    "\n",
    "# Clean the 'online_order' column\n",
    "df['online_order'] = df['online_order'].astype(str).str.lower()\n",
    "\n",
    "# Filter restaurants that offer online ordering\n",
    "online_df = df[df['online_order'] == 'yes']\n",
    "\n",
    "# Get the maximum number of votes\n",
    "max_votes = online_df['votes'].max()\n",
    "\n",
    "# Print the result\n",
    "print(f\"Maximum votes received by a restaurant with online ordering: {max_votes}\")\n"
   ]
  },
  {
   "cell_type": "code",
   "execution_count": null,
   "id": "05254c3b",
   "metadata": {},
   "outputs": [
    {
     "name": "stdout",
     "output_type": "stream",
     "text": [
      "Average rating of restaurants serving both North Indian and Chinese cuisines: 3.6\n"
     ]
    }
   ],
   "source": [
    "import pandas as pd\n",
    "\n",
    "# Load the dataset\n",
    "file_path = \"C:\\Users\\SATHVIKA\\Downloads\\zomato_data.csv\"\n",
    "df = pd.read_csv(file_path)\n",
    "\n",
    "# Clean and convert rate column\n",
    "df['rate'] = df['rate'].astype(str).str.replace('/5', '').replace(['NEW', '-', 'nan'], pd.NA)\n",
    "df['rate'] = pd.to_numeric(df['rate'], errors='coerce')\n",
    "\n",
    "# Clean the cuisines column\n",
    "df['cuisines'] = df['cuisines'].astype(str).str.lower()\n",
    "\n",
    "# Filter restaurants that serve both North Indian and Chinese cuisines\n",
    "filtered_df = df[(df['cuisines'].str.contains('north indian')) & \n",
    "                 (df['cuisines'].str.contains('chinese'))]\n",
    "\n",
    "# Calculate average rating\n",
    "average_rating = filtered_df['rate'].mean()\n",
    "\n",
    "# Print result\n",
    "print(f\"Average rating of restaurants serving both North Indian and Chinese cuisines: {average_rating:.1f}\")\n"
   ]
  },
  {
   "cell_type": "code",
   "execution_count": null,
   "id": "65bbfa90",
   "metadata": {},
   "outputs": [
    {
     "name": "stdout",
     "output_type": "stream",
     "text": [
      "The most profitable area for Zomato based on potential revenue is: Koramangala 7th Block\n",
      "Estimated revenue score: 4,313,257,076\n"
     ]
    }
   ],
   "source": [
    "import pandas as pd\n",
    "\n",
    "# Load dataset\n",
    "file_path = \"C:\\Users\\SATHVIKA\\Downloads\\zomato_data.csv\"\n",
    "df = pd.read_csv(file_path)\n",
    "\n",
    "# Clean 'rate' column\n",
    "df['rate'] = df['rate'].astype(str).str.replace('/5', '').replace(['NEW', '-', 'nan'], pd.NA)\n",
    "df['rate'] = pd.to_numeric(df['rate'], errors='coerce')\n",
    "\n",
    "# Clean cost column\n",
    "df['approx_costfor_two_people'] = df['approx_costfor_two_people'].astype(str).str.replace(',', '').replace('nan', pd.NA)\n",
    "df['approx_costfor_two_people'] = pd.to_numeric(df['approx_costfor_two_people'], errors='coerce')\n",
    "\n",
    "# Drop rows with missing values in key columns\n",
    "df = df.dropna(subset=['rate', 'votes', 'approx_costfor_two_people', 'listed_incity'])\n",
    "\n",
    "# Calculate potential revenue\n",
    "df['potential_revenue'] = df['rate'] * df['votes'] * df['approx_costfor_two_people']\n",
    "\n",
    "# Group by locality (city column used here)\n",
    "revenue_by_area = df.groupby('listed_incity')['potential_revenue'].sum().sort_values(ascending=False)\n",
    "\n",
    "# Get the top area\n",
    "top_area = revenue_by_area.idxmax()\n",
    "top_value = revenue_by_area.max()\n",
    "\n",
    "print(f\"The most profitable area for Zomato based on potential revenue is: {top_area}\")\n",
    "print(f\"Estimated revenue score: {top_value:,.0f}\")\n"
   ]
  },
  {
   "cell_type": "code",
   "execution_count": null,
   "id": "91bb4912",
   "metadata": {},
   "outputs": [
    {
     "name": "stdout",
     "output_type": "stream",
     "text": [
      "Restaurant type that Zomato should focus on to reduce customer complaints:\n",
      "                   rate    votes         score\n",
      "rest_type                                     \n",
      "Casual Dining  3.740398  4536816  5.714585e+06\n"
     ]
    }
   ],
   "source": [
    "import pandas as pd\n",
    "\n",
    "# Load dataset\n",
    "file_path = \"C:\\Users\\SATHVIKA\\Downloads\\zomato_data.csv\"\n",
    "df = pd.read_csv(file_path)\n",
    "\n",
    "# Clean 'rate' column\n",
    "df['rate'] = df['rate'].astype(str).str.replace('/5', '').replace(['NEW', '-', 'nan'], pd.NA)\n",
    "df['rate'] = pd.to_numeric(df['rate'], errors='coerce')\n",
    "\n",
    "# Drop rows with missing values in key columns\n",
    "df = df.dropna(subset=['rate', 'votes', 'rest_type'])\n",
    "\n",
    "# Group by restaurant type and calculate average rating and total votes\n",
    "rest_type_summary = df.groupby('rest_type').agg({'rate': 'mean', 'votes': 'sum'})\n",
    "\n",
    "# Normalize the votes to highlight high-traffic types with low ratings\n",
    "rest_type_summary['score'] = rest_type_summary['votes'] * (5 - rest_type_summary['rate'])\n",
    "\n",
    "# Sort by highest complaint-prone score\n",
    "worst_type = rest_type_summary.sort_values('score', ascending=False).head(1)\n",
    "\n",
    "print(\"Restaurant type that Zomato should focus on to reduce customer complaints:\")\n",
    "print(worst_type)\n"
   ]
  },
  {
   "cell_type": "code",
   "execution_count": null,
   "id": "a30e7efd",
   "metadata": {},
   "outputs": [
    {
     "name": "stdout",
     "output_type": "stream",
     "text": [
      "Restaurant type Zomato should focus on to reduce complaints:\n",
      "                   rate    votes  complaint_score\n",
      "rest_type                                        \n",
      "Casual Dining  3.740398  4536816     5.714585e+06\n"
     ]
    }
   ],
   "source": [
    "import pandas as pd\n",
    "\n",
    "# Load the dataset\n",
    "file_path = \"C:\\Users\\SATHVIKA\\Downloads\\zomato_data.csv\"\n",
    "df = pd.read_csv(file_path)\n",
    "\n",
    "# Clean the 'rate' column\n",
    "df['rate'] = df['rate'].astype(str).str.replace('/5', '').replace(['NEW', '-', 'nan'], pd.NA)\n",
    "df['rate'] = pd.to_numeric(df['rate'], errors='coerce')\n",
    "\n",
    "# Drop rows with missing values in required columns\n",
    "df = df.dropna(subset=['rate', 'votes', 'rest_type'])\n",
    "\n",
    "# Group by restaurant type and calculate average rating and total votes\n",
    "grouped = df.groupby('rest_type').agg({'rate': 'mean', 'votes': 'sum'})\n",
    "\n",
    "# Calculate complaint score = votes * (5 - average rating)\n",
    "grouped['complaint_score'] = grouped['votes'] * (5 - grouped['rate'])\n",
    "\n",
    "# Sort by complaint score to find the type with highest potential complaints\n",
    "result = grouped.sort_values(by='complaint_score', ascending=False)\n",
    "\n",
    "# Show the top restaurant type\n",
    "print(\"Restaurant type Zomato should focus on to reduce complaints:\")\n",
    "print(result.head(1))\n"
   ]
  },
  {
   "cell_type": "code",
   "execution_count": null,
   "id": "65eb7b0a",
   "metadata": {},
   "outputs": [
    {
     "name": "stdout",
     "output_type": "stream",
     "text": [
      "Restaurant types with lowest ratings and high vote counts:\n",
      "                     avg_rating  total_votes  count\n",
      "rest_type                                          \n",
      "Bakery, Quick Bites    3.397807        11970    228\n",
      "Food Court             3.472946        35688    499\n",
      "Takeaway, Delivery     3.513622        90276   1292\n",
      "Quick Bites            3.546113      1476809  13944\n",
      "Delivery               3.569286       223766   1680\n"
     ]
    }
   ],
   "source": [
    "import pandas as pd\n",
    "import numpy as np\n",
    "\n",
    "# Load dataset\n",
    "file_path = \"C:\\Users\\SATHVIKA\\Downloads\\zomato_data.csv\"\n",
    "df = pd.read_csv(file_path)\n",
    "\n",
    "# Standardize column names\n",
    "df.columns = [col.strip().lower().replace(' ', '_') for col in df.columns]\n",
    "\n",
    "# Clean and convert rate column\n",
    "df['rate'] = (\n",
    "    df['rate']\n",
    "    .astype(str)\n",
    "    .str.replace('/5', '', regex=False)\n",
    "    .replace(['NEW', '-', 'nan'], np.nan)\n",
    ")\n",
    "df['rate'] = pd.to_numeric(df['rate'], errors='coerce')\n",
    "\n",
    "# Clean votes\n",
    "df['votes'] = pd.to_numeric(df['votes'], errors='coerce')\n",
    "\n",
    "# Drop rows with missing values in important columns\n",
    "df.dropna(subset=['rest_type', 'rate', 'votes'], inplace=True)\n",
    "\n",
    "# Group by restaurant type: get average rating and total votes\n",
    "rest_group = df.groupby('rest_type').agg(\n",
    "    avg_rating=('rate', 'mean'),\n",
    "    total_votes=('votes', 'sum'),\n",
    "    count=('rest_type', 'count')\n",
    ").sort_values(by='avg_rating')\n",
    "\n",
    "# Filter for types with high vote counts (indicating popularity)\n",
    "complaint_candidates = rest_group[rest_group['total_votes'] > 10000]\n",
    "\n",
    "print(\"Restaurant types with lowest ratings and high vote counts:\")\n",
    "print(complaint_candidates.head(5))\n"
   ]
  },
  {
   "cell_type": "code",
   "execution_count": null,
   "id": "1b1a6ebe",
   "metadata": {},
   "outputs": [
    {
     "name": "stdout",
     "output_type": "stream",
     "text": [
      "Zomato should invest in: Koramangala 7th Block\n"
     ]
    }
   ],
   "source": [
    "import pandas as pd\n",
    "\n",
    "# Load the dataset\n",
    "file_path = \"C:\\Users\\SATHVIKA\\Downloads\\zomato_data.csv\"\n",
    "df = pd.read_csv(file_path)\n",
    "\n",
    "# Clean and preprocess\n",
    "df['rate'] = df['rate'].astype(str).str.replace('/5', '').replace(['NEW', '-', 'nan'], pd.NA)\n",
    "df['rate'] = pd.to_numeric(df['rate'], errors='coerce')\n",
    "df['online_order'] = df['online_order'].astype(str).str.strip().str.lower()\n",
    "df = df.dropna(subset=['rate', 'votes'])\n",
    "\n",
    "# Apply filter conditions\n",
    "filtered_df = df[(df['rate'] > 4.2) & (df['votes'] > 500) & (df['online_order'] == 'yes')]\n",
    "\n",
    "# Group by area (assuming it's stored in 'listed_incity')\n",
    "if 'listed_incity' in filtered_df.columns:\n",
    "    top_area = filtered_df['listed_incity'].value_counts().idxmax()\n",
    "    print(f\"Zomato should invest in: {top_area}\")\n",
    "else:\n",
    "    print(\"Check column name for area/locality (e.g., 'listed_incity' or similar).\")\n"
   ]
  },
  {
   "cell_type": "code",
   "execution_count": null,
   "id": "89d42fb1",
   "metadata": {},
   "outputs": [],
   "source": []
  }
 ],
 "metadata": {
  "kernelspec": {
   "display_name": "Python 3 (ipykernel)",
   "language": "python",
   "name": "python3"
  },
  "language_info": {
   "codemirror_mode": {
    "name": "ipython",
    "version": 3
   },
   "file_extension": ".py",
   "mimetype": "text/x-python",
   "name": "python",
   "nbconvert_exporter": "python",
   "pygments_lexer": "ipython3",
   "version": "3.11.5"
  }
 },
 "nbformat": 4,
 "nbformat_minor": 5
}
